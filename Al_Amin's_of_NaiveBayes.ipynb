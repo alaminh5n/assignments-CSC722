{
  "metadata": {
    "language_info": {
      "codemirror_mode": {
        "name": "ipython",
        "version": 3
      },
      "file_extension": ".py",
      "mimetype": "text/x-python",
      "name": "python",
      "nbconvert_exporter": "python",
      "pygments_lexer": "ipython3",
      "version": "3.8.5-final"
    },
    "orig_nbformat": 2,
    "kernelspec": {
      "name": "python3",
      "display_name": "Python 3.8.5 64-bit (conda)",
      "metadata": {
        "interpreter": {
          "hash": "2c81527b5a4384cf19648bf8d6f513a12814ed111bcfa0a54163f8e293289c46"
        }
      }
    },
    "colab": {
      "provenance": []
    }
  },
  "nbformat": 4,
  "nbformat_minor": 0,
  "cells": [
    {
      "source": [
        "## Tools"
      ],
      "cell_type": "markdown",
      "metadata": {
        "id": "Yb3pUNIAGSOx"
      }
    },
    {
      "cell_type": "code",
      "execution_count": null,
      "metadata": {
        "id": "suGXSPy1GSOy"
      },
      "outputs": [],
      "source": [
        "import numpy as np\n",
        "import pandas as pd\n",
        "import matplotlib.pyplot as plt\n",
        "import seaborn as sns\n",
        "from sklearn.metrics import accuracy_score, confusion_matrix, precision_score, recall_score, f1_score, roc_auc_score, roc_curve, auc, log_loss\n",
        "\n",
        "sns.set_style(\"darkgrid\")"
      ]
    },
    {
      "cell_type": "code",
      "source": [],
      "metadata": {
        "id": "WM0fLc5lOyZw"
      },
      "execution_count": null,
      "outputs": []
    },
    {
      "source": [
        "## Dataset"
      ],
      "cell_type": "markdown",
      "metadata": {
        "id": "O6kKwJ5DGSOz"
      }
    },
    {
      "cell_type": "code",
      "source": [
        "# from google.colab import drive\n",
        "# drive.mount('/content/drive')"
      ],
      "metadata": {
        "id": "_BI2a4FRGfeg"
      },
      "execution_count": null,
      "outputs": []
    },
    {
      "cell_type": "code",
      "execution_count": null,
      "metadata": {
        "id": "tkZzNcIWGSO0",
        "colab": {
          "base_uri": "https://localhost:8080/",
          "height": 383
        },
        "outputId": "98d68a8b-8d48-4ccf-fbcd-570379449dff"
      },
      "outputs": [
        {
          "output_type": "execute_result",
          "data": {
            "text/plain": [
              "   mean_radius  mean_texture  mean_perimeter  mean_area  mean_smoothness  \\\n",
              "0        17.99         10.38          122.80     1001.0          0.11840   \n",
              "1        20.57         17.77          132.90     1326.0          0.08474   \n",
              "2        19.69         21.25          130.00     1203.0          0.10960   \n",
              "3        11.42         20.38           77.58      386.1          0.14250   \n",
              "4        20.29         14.34          135.10     1297.0          0.10030   \n",
              "5        12.45         15.70           82.57      477.1          0.12780   \n",
              "6        18.25         19.98          119.60     1040.0          0.09463   \n",
              "7        13.71         20.83           90.20      577.9          0.11890   \n",
              "8        13.00         21.82           87.50      519.8          0.12730   \n",
              "9        12.46         24.04           83.97      475.9          0.11860   \n",
              "\n",
              "   diagnosis  \n",
              "0          0  \n",
              "1          0  \n",
              "2          0  \n",
              "3          0  \n",
              "4          0  \n",
              "5          0  \n",
              "6          0  \n",
              "7          0  \n",
              "8          0  \n",
              "9          0  "
            ],
            "text/html": [
              "\n",
              "  <div id=\"df-7cef9a9b-a631-4011-aa9f-e0f1207edb38\" class=\"colab-df-container\">\n",
              "    <div>\n",
              "<style scoped>\n",
              "    .dataframe tbody tr th:only-of-type {\n",
              "        vertical-align: middle;\n",
              "    }\n",
              "\n",
              "    .dataframe tbody tr th {\n",
              "        vertical-align: top;\n",
              "    }\n",
              "\n",
              "    .dataframe thead th {\n",
              "        text-align: right;\n",
              "    }\n",
              "</style>\n",
              "<table border=\"1\" class=\"dataframe\">\n",
              "  <thead>\n",
              "    <tr style=\"text-align: right;\">\n",
              "      <th></th>\n",
              "      <th>mean_radius</th>\n",
              "      <th>mean_texture</th>\n",
              "      <th>mean_perimeter</th>\n",
              "      <th>mean_area</th>\n",
              "      <th>mean_smoothness</th>\n",
              "      <th>diagnosis</th>\n",
              "    </tr>\n",
              "  </thead>\n",
              "  <tbody>\n",
              "    <tr>\n",
              "      <th>0</th>\n",
              "      <td>17.99</td>\n",
              "      <td>10.38</td>\n",
              "      <td>122.80</td>\n",
              "      <td>1001.0</td>\n",
              "      <td>0.11840</td>\n",
              "      <td>0</td>\n",
              "    </tr>\n",
              "    <tr>\n",
              "      <th>1</th>\n",
              "      <td>20.57</td>\n",
              "      <td>17.77</td>\n",
              "      <td>132.90</td>\n",
              "      <td>1326.0</td>\n",
              "      <td>0.08474</td>\n",
              "      <td>0</td>\n",
              "    </tr>\n",
              "    <tr>\n",
              "      <th>2</th>\n",
              "      <td>19.69</td>\n",
              "      <td>21.25</td>\n",
              "      <td>130.00</td>\n",
              "      <td>1203.0</td>\n",
              "      <td>0.10960</td>\n",
              "      <td>0</td>\n",
              "    </tr>\n",
              "    <tr>\n",
              "      <th>3</th>\n",
              "      <td>11.42</td>\n",
              "      <td>20.38</td>\n",
              "      <td>77.58</td>\n",
              "      <td>386.1</td>\n",
              "      <td>0.14250</td>\n",
              "      <td>0</td>\n",
              "    </tr>\n",
              "    <tr>\n",
              "      <th>4</th>\n",
              "      <td>20.29</td>\n",
              "      <td>14.34</td>\n",
              "      <td>135.10</td>\n",
              "      <td>1297.0</td>\n",
              "      <td>0.10030</td>\n",
              "      <td>0</td>\n",
              "    </tr>\n",
              "    <tr>\n",
              "      <th>5</th>\n",
              "      <td>12.45</td>\n",
              "      <td>15.70</td>\n",
              "      <td>82.57</td>\n",
              "      <td>477.1</td>\n",
              "      <td>0.12780</td>\n",
              "      <td>0</td>\n",
              "    </tr>\n",
              "    <tr>\n",
              "      <th>6</th>\n",
              "      <td>18.25</td>\n",
              "      <td>19.98</td>\n",
              "      <td>119.60</td>\n",
              "      <td>1040.0</td>\n",
              "      <td>0.09463</td>\n",
              "      <td>0</td>\n",
              "    </tr>\n",
              "    <tr>\n",
              "      <th>7</th>\n",
              "      <td>13.71</td>\n",
              "      <td>20.83</td>\n",
              "      <td>90.20</td>\n",
              "      <td>577.9</td>\n",
              "      <td>0.11890</td>\n",
              "      <td>0</td>\n",
              "    </tr>\n",
              "    <tr>\n",
              "      <th>8</th>\n",
              "      <td>13.00</td>\n",
              "      <td>21.82</td>\n",
              "      <td>87.50</td>\n",
              "      <td>519.8</td>\n",
              "      <td>0.12730</td>\n",
              "      <td>0</td>\n",
              "    </tr>\n",
              "    <tr>\n",
              "      <th>9</th>\n",
              "      <td>12.46</td>\n",
              "      <td>24.04</td>\n",
              "      <td>83.97</td>\n",
              "      <td>475.9</td>\n",
              "      <td>0.11860</td>\n",
              "      <td>0</td>\n",
              "    </tr>\n",
              "  </tbody>\n",
              "</table>\n",
              "</div>\n",
              "    <div class=\"colab-df-buttons\">\n",
              "\n",
              "  <div class=\"colab-df-container\">\n",
              "    <button class=\"colab-df-convert\" onclick=\"convertToInteractive('df-7cef9a9b-a631-4011-aa9f-e0f1207edb38')\"\n",
              "            title=\"Convert this dataframe to an interactive table.\"\n",
              "            style=\"display:none;\">\n",
              "\n",
              "  <svg xmlns=\"http://www.w3.org/2000/svg\" height=\"24px\" viewBox=\"0 -960 960 960\">\n",
              "    <path d=\"M120-120v-720h720v720H120Zm60-500h600v-160H180v160Zm220 220h160v-160H400v160Zm0 220h160v-160H400v160ZM180-400h160v-160H180v160Zm440 0h160v-160H620v160ZM180-180h160v-160H180v160Zm440 0h160v-160H620v160Z\"/>\n",
              "  </svg>\n",
              "    </button>\n",
              "\n",
              "  <style>\n",
              "    .colab-df-container {\n",
              "      display:flex;\n",
              "      gap: 12px;\n",
              "    }\n",
              "\n",
              "    .colab-df-convert {\n",
              "      background-color: #E8F0FE;\n",
              "      border: none;\n",
              "      border-radius: 50%;\n",
              "      cursor: pointer;\n",
              "      display: none;\n",
              "      fill: #1967D2;\n",
              "      height: 32px;\n",
              "      padding: 0 0 0 0;\n",
              "      width: 32px;\n",
              "    }\n",
              "\n",
              "    .colab-df-convert:hover {\n",
              "      background-color: #E2EBFA;\n",
              "      box-shadow: 0px 1px 2px rgba(60, 64, 67, 0.3), 0px 1px 3px 1px rgba(60, 64, 67, 0.15);\n",
              "      fill: #174EA6;\n",
              "    }\n",
              "\n",
              "    .colab-df-buttons div {\n",
              "      margin-bottom: 4px;\n",
              "    }\n",
              "\n",
              "    [theme=dark] .colab-df-convert {\n",
              "      background-color: #3B4455;\n",
              "      fill: #D2E3FC;\n",
              "    }\n",
              "\n",
              "    [theme=dark] .colab-df-convert:hover {\n",
              "      background-color: #434B5C;\n",
              "      box-shadow: 0px 1px 3px 1px rgba(0, 0, 0, 0.15);\n",
              "      filter: drop-shadow(0px 1px 2px rgba(0, 0, 0, 0.3));\n",
              "      fill: #FFFFFF;\n",
              "    }\n",
              "  </style>\n",
              "\n",
              "    <script>\n",
              "      const buttonEl =\n",
              "        document.querySelector('#df-7cef9a9b-a631-4011-aa9f-e0f1207edb38 button.colab-df-convert');\n",
              "      buttonEl.style.display =\n",
              "        google.colab.kernel.accessAllowed ? 'block' : 'none';\n",
              "\n",
              "      async function convertToInteractive(key) {\n",
              "        const element = document.querySelector('#df-7cef9a9b-a631-4011-aa9f-e0f1207edb38');\n",
              "        const dataTable =\n",
              "          await google.colab.kernel.invokeFunction('convertToInteractive',\n",
              "                                                    [key], {});\n",
              "        if (!dataTable) return;\n",
              "\n",
              "        const docLinkHtml = 'Like what you see? Visit the ' +\n",
              "          '<a target=\"_blank\" href=https://colab.research.google.com/notebooks/data_table.ipynb>data table notebook</a>'\n",
              "          + ' to learn more about interactive tables.';\n",
              "        element.innerHTML = '';\n",
              "        dataTable['output_type'] = 'display_data';\n",
              "        await google.colab.output.renderOutput(dataTable, element);\n",
              "        const docLink = document.createElement('div');\n",
              "        docLink.innerHTML = docLinkHtml;\n",
              "        element.appendChild(docLink);\n",
              "      }\n",
              "    </script>\n",
              "  </div>\n",
              "\n",
              "\n",
              "<div id=\"df-b2fdc8de-e200-4a5b-ae2a-44dc212d1fea\">\n",
              "  <button class=\"colab-df-quickchart\" onclick=\"quickchart('df-b2fdc8de-e200-4a5b-ae2a-44dc212d1fea')\"\n",
              "            title=\"Suggest charts\"\n",
              "            style=\"display:none;\">\n",
              "\n",
              "<svg xmlns=\"http://www.w3.org/2000/svg\" height=\"24px\"viewBox=\"0 0 24 24\"\n",
              "     width=\"24px\">\n",
              "    <g>\n",
              "        <path d=\"M19 3H5c-1.1 0-2 .9-2 2v14c0 1.1.9 2 2 2h14c1.1 0 2-.9 2-2V5c0-1.1-.9-2-2-2zM9 17H7v-7h2v7zm4 0h-2V7h2v10zm4 0h-2v-4h2v4z\"/>\n",
              "    </g>\n",
              "</svg>\n",
              "  </button>\n",
              "\n",
              "<style>\n",
              "  .colab-df-quickchart {\n",
              "      --bg-color: #E8F0FE;\n",
              "      --fill-color: #1967D2;\n",
              "      --hover-bg-color: #E2EBFA;\n",
              "      --hover-fill-color: #174EA6;\n",
              "      --disabled-fill-color: #AAA;\n",
              "      --disabled-bg-color: #DDD;\n",
              "  }\n",
              "\n",
              "  [theme=dark] .colab-df-quickchart {\n",
              "      --bg-color: #3B4455;\n",
              "      --fill-color: #D2E3FC;\n",
              "      --hover-bg-color: #434B5C;\n",
              "      --hover-fill-color: #FFFFFF;\n",
              "      --disabled-bg-color: #3B4455;\n",
              "      --disabled-fill-color: #666;\n",
              "  }\n",
              "\n",
              "  .colab-df-quickchart {\n",
              "    background-color: var(--bg-color);\n",
              "    border: none;\n",
              "    border-radius: 50%;\n",
              "    cursor: pointer;\n",
              "    display: none;\n",
              "    fill: var(--fill-color);\n",
              "    height: 32px;\n",
              "    padding: 0;\n",
              "    width: 32px;\n",
              "  }\n",
              "\n",
              "  .colab-df-quickchart:hover {\n",
              "    background-color: var(--hover-bg-color);\n",
              "    box-shadow: 0 1px 2px rgba(60, 64, 67, 0.3), 0 1px 3px 1px rgba(60, 64, 67, 0.15);\n",
              "    fill: var(--button-hover-fill-color);\n",
              "  }\n",
              "\n",
              "  .colab-df-quickchart-complete:disabled,\n",
              "  .colab-df-quickchart-complete:disabled:hover {\n",
              "    background-color: var(--disabled-bg-color);\n",
              "    fill: var(--disabled-fill-color);\n",
              "    box-shadow: none;\n",
              "  }\n",
              "\n",
              "  .colab-df-spinner {\n",
              "    border: 2px solid var(--fill-color);\n",
              "    border-color: transparent;\n",
              "    border-bottom-color: var(--fill-color);\n",
              "    animation:\n",
              "      spin 1s steps(1) infinite;\n",
              "  }\n",
              "\n",
              "  @keyframes spin {\n",
              "    0% {\n",
              "      border-color: transparent;\n",
              "      border-bottom-color: var(--fill-color);\n",
              "      border-left-color: var(--fill-color);\n",
              "    }\n",
              "    20% {\n",
              "      border-color: transparent;\n",
              "      border-left-color: var(--fill-color);\n",
              "      border-top-color: var(--fill-color);\n",
              "    }\n",
              "    30% {\n",
              "      border-color: transparent;\n",
              "      border-left-color: var(--fill-color);\n",
              "      border-top-color: var(--fill-color);\n",
              "      border-right-color: var(--fill-color);\n",
              "    }\n",
              "    40% {\n",
              "      border-color: transparent;\n",
              "      border-right-color: var(--fill-color);\n",
              "      border-top-color: var(--fill-color);\n",
              "    }\n",
              "    60% {\n",
              "      border-color: transparent;\n",
              "      border-right-color: var(--fill-color);\n",
              "    }\n",
              "    80% {\n",
              "      border-color: transparent;\n",
              "      border-right-color: var(--fill-color);\n",
              "      border-bottom-color: var(--fill-color);\n",
              "    }\n",
              "    90% {\n",
              "      border-color: transparent;\n",
              "      border-bottom-color: var(--fill-color);\n",
              "    }\n",
              "  }\n",
              "</style>\n",
              "\n",
              "  <script>\n",
              "    async function quickchart(key) {\n",
              "      const quickchartButtonEl =\n",
              "        document.querySelector('#' + key + ' button');\n",
              "      quickchartButtonEl.disabled = true;  // To prevent multiple clicks.\n",
              "      quickchartButtonEl.classList.add('colab-df-spinner');\n",
              "      try {\n",
              "        const charts = await google.colab.kernel.invokeFunction(\n",
              "            'suggestCharts', [key], {});\n",
              "      } catch (error) {\n",
              "        console.error('Error during call to suggestCharts:', error);\n",
              "      }\n",
              "      quickchartButtonEl.classList.remove('colab-df-spinner');\n",
              "      quickchartButtonEl.classList.add('colab-df-quickchart-complete');\n",
              "    }\n",
              "    (() => {\n",
              "      let quickchartButtonEl =\n",
              "        document.querySelector('#df-b2fdc8de-e200-4a5b-ae2a-44dc212d1fea button');\n",
              "      quickchartButtonEl.style.display =\n",
              "        google.colab.kernel.accessAllowed ? 'block' : 'none';\n",
              "    })();\n",
              "  </script>\n",
              "</div>\n",
              "\n",
              "    </div>\n",
              "  </div>\n"
            ],
            "application/vnd.google.colaboratory.intrinsic+json": {
              "type": "dataframe",
              "variable_name": "data",
              "summary": "{\n  \"name\": \"data\",\n  \"rows\": 569,\n  \"fields\": [\n    {\n      \"column\": \"mean_radius\",\n      \"properties\": {\n        \"dtype\": \"number\",\n        \"std\": 3.5240488262120775,\n        \"min\": 6.981,\n        \"max\": 28.11,\n        \"num_unique_values\": 456,\n        \"samples\": [\n          11.87,\n          13.44,\n          12.96\n        ],\n        \"semantic_type\": \"\",\n        \"description\": \"\"\n      }\n    },\n    {\n      \"column\": \"mean_texture\",\n      \"properties\": {\n        \"dtype\": \"number\",\n        \"std\": 4.301035768166949,\n        \"min\": 9.71,\n        \"max\": 39.28,\n        \"num_unique_values\": 479,\n        \"samples\": [\n          17.84,\n          17.07,\n          18.57\n        ],\n        \"semantic_type\": \"\",\n        \"description\": \"\"\n      }\n    },\n    {\n      \"column\": \"mean_perimeter\",\n      \"properties\": {\n        \"dtype\": \"number\",\n        \"std\": 24.298981038754906,\n        \"min\": 43.79,\n        \"max\": 188.5,\n        \"num_unique_values\": 522,\n        \"samples\": [\n          92.25,\n          76.38,\n          119.6\n        ],\n        \"semantic_type\": \"\",\n        \"description\": \"\"\n      }\n    },\n    {\n      \"column\": \"mean_area\",\n      \"properties\": {\n        \"dtype\": \"number\",\n        \"std\": 351.914129181653,\n        \"min\": 143.5,\n        \"max\": 2501.0,\n        \"num_unique_values\": 539,\n        \"samples\": [\n          556.7,\n          584.1,\n          458.4\n        ],\n        \"semantic_type\": \"\",\n        \"description\": \"\"\n      }\n    },\n    {\n      \"column\": \"mean_smoothness\",\n      \"properties\": {\n        \"dtype\": \"number\",\n        \"std\": 0.01406412813767362,\n        \"min\": 0.05263,\n        \"max\": 0.1634,\n        \"num_unique_values\": 474,\n        \"samples\": [\n          0.09427,\n          0.09003,\n          0.1186\n        ],\n        \"semantic_type\": \"\",\n        \"description\": \"\"\n      }\n    },\n    {\n      \"column\": \"diagnosis\",\n      \"properties\": {\n        \"dtype\": \"number\",\n        \"std\": 0,\n        \"min\": 0,\n        \"max\": 1,\n        \"num_unique_values\": 2,\n        \"samples\": [\n          1,\n          0\n        ],\n        \"semantic_type\": \"\",\n        \"description\": \"\"\n      }\n    }\n  ]\n}"
            }
          },
          "metadata": {},
          "execution_count": 55
        }
      ],
      "source": [
        "data = pd.read_csv(\"BreastCancerData.csv\")\n",
        "data.head(10)"
      ]
    },
    {
      "source": [
        "## Basic EDA"
      ],
      "cell_type": "markdown",
      "metadata": {
        "id": "eDn_OodJGSO1"
      }
    },
    {
      "cell_type": "code",
      "execution_count": null,
      "metadata": {
        "id": "FD6yG0NgGSO1",
        "colab": {
          "base_uri": "https://localhost:8080/",
          "height": 286
        },
        "outputId": "677bcf43-d5a3-4715-be2d-acb8b3d5ae88"
      },
      "outputs": [
        {
          "output_type": "execute_result",
          "data": {
            "text/plain": [
              "<Axes: >"
            ]
          },
          "metadata": {},
          "execution_count": 56
        },
        {
          "output_type": "display_data",
          "data": {
            "text/plain": [
              "<Figure size 640x480 with 1 Axes>"
            ],
            "image/png": "[encoded data removed]"
          },
          "metadata": {}
        }
      ],
      "source": [
        "data[\"diagnosis\"].hist()"
      ]
    },
    {
      "cell_type": "code",
      "execution_count": null,
      "metadata": {
        "id": "zQhdFQ6BGSO1",
        "colab": {
          "base_uri": "https://localhost:8080/",
          "height": 326
        },
        "outputId": "7c830d77-f53e-44b3-bad0-5dc49d375f36"
      },
      "outputs": [
        {
          "output_type": "execute_result",
          "data": {
            "text/plain": [
              "<Axes: >"
            ]
          },
          "metadata": {},
          "execution_count": 57
        },
        {
          "output_type": "display_data",
          "data": {
            "text/plain": [
              "<Figure size 640x480 with 2 Axes>"
            ],
            "image/png": "[encoded data removed]"
          },
          "metadata": {}
        }
      ],
      "source": [
        "corr = data.iloc[:,:-1].corr(method=\"pearson\")\n",
        "cmap = sns.diverging_palette(250,354,80,60,center='dark',as_cmap=True)\n",
        "sns.heatmap(corr, vmax=1, vmin=-.5, cmap=cmap, square=True, linewidths=.2)"
      ]
    },
    {
      "cell_type": "code",
      "execution_count": null,
      "metadata": {
        "id": "17vxOX1ZGSO2",
        "colab": {
          "base_uri": "https://localhost:8080/",
          "height": 383
        },
        "outputId": "bc87c756-e870-4e44-cc54-48e1e75cc1e2"
      },
      "outputs": [
        {
          "output_type": "execute_result",
          "data": {
            "text/plain": [
              "   mean_radius  mean_texture  mean_smoothness  diagnosis\n",
              "0        17.99         10.38          0.11840          0\n",
              "1        20.57         17.77          0.08474          0\n",
              "2        19.69         21.25          0.10960          0\n",
              "3        11.42         20.38          0.14250          0\n",
              "4        20.29         14.34          0.10030          0\n",
              "5        12.45         15.70          0.12780          0\n",
              "6        18.25         19.98          0.09463          0\n",
              "7        13.71         20.83          0.11890          0\n",
              "8        13.00         21.82          0.12730          0\n",
              "9        12.46         24.04          0.11860          0"
            ],
            "text/html": [
              "\n",
              "  <div id=\"df-343ad439-65eb-4236-a1a0-cb7a70f99995\" class=\"colab-df-container\">\n",
              "    <div>\n",
              "<style scoped>\n",
              "    .dataframe tbody tr th:only-of-type {\n",
              "        vertical-align: middle;\n",
              "    }\n",
              "\n",
              "    .dataframe tbody tr th {\n",
              "        vertical-align: top;\n",
              "    }\n",
              "\n",
              "    .dataframe thead th {\n",
              "        text-align: right;\n",
              "    }\n",
              "</style>\n",
              "<table border=\"1\" class=\"dataframe\">\n",
              "  <thead>\n",
              "    <tr style=\"text-align: right;\">\n",
              "      <th></th>\n",
              "      <th>mean_radius</th>\n",
              "      <th>mean_texture</th>\n",
              "      <th>mean_smoothness</th>\n",
              "      <th>diagnosis</th>\n",
              "    </tr>\n",
              "  </thead>\n",
              "  <tbody>\n",
              "    <tr>\n",
              "      <th>0</th>\n",
              "      <td>17.99</td>\n",
              "      <td>10.38</td>\n",
              "      <td>0.11840</td>\n",
              "      <td>0</td>\n",
              "    </tr>\n",
              "    <tr>\n",
              "      <th>1</th>\n",
              "      <td>20.57</td>\n",
              "      <td>17.77</td>\n",
              "      <td>0.08474</td>\n",
              "      <td>0</td>\n",
              "    </tr>\n",
              "    <tr>\n",
              "      <th>2</th>\n",
              "      <td>19.69</td>\n",
              "      <td>21.25</td>\n",
              "      <td>0.10960</td>\n",
              "      <td>0</td>\n",
              "    </tr>\n",
              "    <tr>\n",
              "      <th>3</th>\n",
              "      <td>11.42</td>\n",
              "      <td>20.38</td>\n",
              "      <td>0.14250</td>\n",
              "      <td>0</td>\n",
              "    </tr>\n",
              "    <tr>\n",
              "      <th>4</th>\n",
              "      <td>20.29</td>\n",
              "      <td>14.34</td>\n",
              "      <td>0.10030</td>\n",
              "      <td>0</td>\n",
              "    </tr>\n",
              "    <tr>\n",
              "      <th>5</th>\n",
              "      <td>12.45</td>\n",
              "      <td>15.70</td>\n",
              "      <td>0.12780</td>\n",
              "      <td>0</td>\n",
              "    </tr>\n",
              "    <tr>\n",
              "      <th>6</th>\n",
              "      <td>18.25</td>\n",
              "      <td>19.98</td>\n",
              "      <td>0.09463</td>\n",
              "      <td>0</td>\n",
              "    </tr>\n",
              "    <tr>\n",
              "      <th>7</th>\n",
              "      <td>13.71</td>\n",
              "      <td>20.83</td>\n",
              "      <td>0.11890</td>\n",
              "      <td>0</td>\n",
              "    </tr>\n",
              "    <tr>\n",
              "      <th>8</th>\n",
              "      <td>13.00</td>\n",
              "      <td>21.82</td>\n",
              "      <td>0.12730</td>\n",
              "      <td>0</td>\n",
              "    </tr>\n",
              "    <tr>\n",
              "      <th>9</th>\n",
              "      <td>12.46</td>\n",
              "      <td>24.04</td>\n",
              "      <td>0.11860</td>\n",
              "      <td>0</td>\n",
              "    </tr>\n",
              "  </tbody>\n",
              "</table>\n",
              "</div>\n",
              "    <div class=\"colab-df-buttons\">\n",
              "\n",
              "  <div class=\"colab-df-container\">\n",
              "    <button class=\"colab-df-convert\" onclick=\"convertToInteractive('df-343ad439-65eb-4236-a1a0-cb7a70f99995')\"\n",
              "            title=\"Convert this dataframe to an interactive table.\"\n",
              "            style=\"display:none;\">\n",
              "\n",
              "  <svg xmlns=\"http://www.w3.org/2000/svg\" height=\"24px\" viewBox=\"0 -960 960 960\">\n",
              "    <path d=\"M120-120v-720h720v720H120Zm60-500h600v-160H180v160Zm220 220h160v-160H400v160Zm0 220h160v-160H400v160ZM180-400h160v-160H180v160Zm440 0h160v-160H620v160ZM180-180h160v-160H180v160Zm440 0h160v-160H620v160Z\"/>\n",
              "  </svg>\n",
              "    </button>\n",
              "\n",
              "  <style>\n",
              "    .colab-df-container {\n",
              "      display:flex;\n",
              "      gap: 12px;\n",
              "    }\n",
              "\n",
              "    .colab-df-convert {\n",
              "      background-color: #E8F0FE;\n",
              "      border: none;\n",
              "      border-radius: 50%;\n",
              "      cursor: pointer;\n",
              "      display: none;\n",
              "      fill: #1967D2;\n",
              "      height: 32px;\n",
              "      padding: 0 0 0 0;\n",
              "      width: 32px;\n",
              "    }\n",
              "\n",
              "    .colab-df-convert:hover {\n",
              "      background-color: #E2EBFA;\n",
              "      box-shadow: 0px 1px 2px rgba(60, 64, 67, 0.3), 0px 1px 3px 1px rgba(60, 64, 67, 0.15);\n",
              "      fill: #174EA6;\n",
              "    }\n",
              "\n",
              "    .colab-df-buttons div {\n",
              "      margin-bottom: 4px;\n",
              "    }\n",
              "\n",
              "    [theme=dark] .colab-df-convert {\n",
              "      background-color: #3B4455;\n",
              "      fill: #D2E3FC;\n",
              "    }\n",
              "\n",
              "    [theme=dark] .colab-df-convert:hover {\n",
              "      background-color: #434B5C;\n",
              "      box-shadow: 0px 1px 3px 1px rgba(0, 0, 0, 0.15);\n",
              "      filter: drop-shadow(0px 1px 2px rgba(0, 0, 0, 0.3));\n",
              "      fill: #FFFFFF;\n",
              "    }\n",
              "  </style>\n",
              "\n",
              "    <script>\n",
              "      const buttonEl =\n",
              "        document.querySelector('#df-343ad439-65eb-4236-a1a0-cb7a70f99995 button.colab-df-convert');\n",
              "      buttonEl.style.display =\n",
              "        google.colab.kernel.accessAllowed ? 'block' : 'none';\n",
              "\n",
              "      async function convertToInteractive(key) {\n",
              "        const element = document.querySelector('#df-343ad439-65eb-4236-a1a0-cb7a70f99995');\n",
              "        const dataTable =\n",
              "          await google.colab.kernel.invokeFunction('convertToInteractive',\n",
              "                                                    [key], {});\n",
              "        if (!dataTable) return;\n",
              "\n",
              "        const docLinkHtml = 'Like what you see? Visit the ' +\n",
              "          '<a target=\"_blank\" href=https://colab.research.google.com/notebooks/data_table.ipynb>data table notebook</a>'\n",
              "          + ' to learn more about interactive tables.';\n",
              "        element.innerHTML = '';\n",
              "        dataTable['output_type'] = 'display_data';\n",
              "        await google.colab.output.renderOutput(dataTable, element);\n",
              "        const docLink = document.createElement('div');\n",
              "        docLink.innerHTML = docLinkHtml;\n",
              "        element.appendChild(docLink);\n",
              "      }\n",
              "    </script>\n",
              "  </div>\n",
              "\n",
              "\n",
              "<div id=\"df-230dbf22-7007-43d3-828c-40e811f13579\">\n",
              "  <button class=\"colab-df-quickchart\" onclick=\"quickchart('df-230dbf22-7007-43d3-828c-40e811f13579')\"\n",
              "            title=\"Suggest charts\"\n",
              "            style=\"display:none;\">\n",
              "\n",
              "<svg xmlns=\"http://www.w3.org/2000/svg\" height=\"24px\"viewBox=\"0 0 24 24\"\n",
              "     width=\"24px\">\n",
              "    <g>\n",
              "        <path d=\"M19 3H5c-1.1 0-2 .9-2 2v14c0 1.1.9 2 2 2h14c1.1 0 2-.9 2-2V5c0-1.1-.9-2-2-2zM9 17H7v-7h2v7zm4 0h-2V7h2v10zm4 0h-2v-4h2v4z\"/>\n",
              "    </g>\n",
              "</svg>\n",
              "  </button>\n",
              "\n",
              "<style>\n",
              "  .colab-df-quickchart {\n",
              "      --bg-color: #E8F0FE;\n",
              "      --fill-color: #1967D2;\n",
              "      --hover-bg-color: #E2EBFA;\n",
              "      --hover-fill-color: #174EA6;\n",
              "      --disabled-fill-color: #AAA;\n",
              "      --disabled-bg-color: #DDD;\n",
              "  }\n",
              "\n",
              "  [theme=dark] .colab-df-quickchart {\n",
              "      --bg-color: #3B4455;\n",
              "      --fill-color: #D2E3FC;\n",
              "      --hover-bg-color: #434B5C;\n",
              "      --hover-fill-color: #FFFFFF;\n",
              "      --disabled-bg-color: #3B4455;\n",
              "      --disabled-fill-color: #666;\n",
              "  }\n",
              "\n",
              "  .colab-df-quickchart {\n",
              "    background-color: var(--bg-color);\n",
              "    border: none;\n",
              "    border-radius: 50%;\n",
              "    cursor: pointer;\n",
              "    display: none;\n",
              "    fill: var(--fill-color);\n",
              "    height: 32px;\n",
              "    padding: 0;\n",
              "    width: 32px;\n",
              "  }\n",
              "\n",
              "  .colab-df-quickchart:hover {\n",
              "    background-color: var(--hover-bg-color);\n",
              "    box-shadow: 0 1px 2px rgba(60, 64, 67, 0.3), 0 1px 3px 1px rgba(60, 64, 67, 0.15);\n",
              "    fill: var(--button-hover-fill-color);\n",
              "  }\n",
              "\n",
              "  .colab-df-quickchart-complete:disabled,\n",
              "  .colab-df-quickchart-complete:disabled:hover {\n",
              "    background-color: var(--disabled-bg-color);\n",
              "    fill: var(--disabled-fill-color);\n",
              "    box-shadow: none;\n",
              "  }\n",
              "\n",
              "  .colab-df-spinner {\n",
              "    border: 2px solid var(--fill-color);\n",
              "    border-color: transparent;\n",
              "    border-bottom-color: var(--fill-color);\n",
              "    animation:\n",
              "      spin 1s steps(1) infinite;\n",
              "  }\n",
              "\n",
              "  @keyframes spin {\n",
              "    0% {\n",
              "      border-color: transparent;\n",
              "      border-bottom-color: var(--fill-color);\n",
              "      border-left-color: var(--fill-color);\n",
              "    }\n",
              "    20% {\n",
              "      border-color: transparent;\n",
              "      border-left-color: var(--fill-color);\n",
              "      border-top-color: var(--fill-color);\n",
              "    }\n",
              "    30% {\n",
              "      border-color: transparent;\n",
              "      border-left-color: var(--fill-color);\n",
              "      border-top-color: var(--fill-color);\n",
              "      border-right-color: var(--fill-color);\n",
              "    }\n",
              "    40% {\n",
              "      border-color: transparent;\n",
              "      border-right-color: var(--fill-color);\n",
              "      border-top-color: var(--fill-color);\n",
              "    }\n",
              "    60% {\n",
              "      border-color: transparent;\n",
              "      border-right-color: var(--fill-color);\n",
              "    }\n",
              "    80% {\n",
              "      border-color: transparent;\n",
              "      border-right-color: var(--fill-color);\n",
              "      border-bottom-color: var(--fill-color);\n",
              "    }\n",
              "    90% {\n",
              "      border-color: transparent;\n",
              "      border-bottom-color: var(--fill-color);\n",
              "    }\n",
              "  }\n",
              "</style>\n",
              "\n",
              "  <script>\n",
              "    async function quickchart(key) {\n",
              "      const quickchartButtonEl =\n",
              "        document.querySelector('#' + key + ' button');\n",
              "      quickchartButtonEl.disabled = true;  // To prevent multiple clicks.\n",
              "      quickchartButtonEl.classList.add('colab-df-spinner');\n",
              "      try {\n",
              "        const charts = await google.colab.kernel.invokeFunction(\n",
              "            'suggestCharts', [key], {});\n",
              "      } catch (error) {\n",
              "        console.error('Error during call to suggestCharts:', error);\n",
              "      }\n",
              "      quickchartButtonEl.classList.remove('colab-df-spinner');\n",
              "      quickchartButtonEl.classList.add('colab-df-quickchart-complete');\n",
              "    }\n",
              "    (() => {\n",
              "      let quickchartButtonEl =\n",
              "        document.querySelector('#df-230dbf22-7007-43d3-828c-40e811f13579 button');\n",
              "      quickchartButtonEl.style.display =\n",
              "        google.colab.kernel.accessAllowed ? 'block' : 'none';\n",
              "    })();\n",
              "  </script>\n",
              "</div>\n",
              "\n",
              "    </div>\n",
              "  </div>\n"
            ],
            "application/vnd.google.colaboratory.intrinsic+json": {
              "type": "dataframe",
              "variable_name": "data",
              "summary": "{\n  \"name\": \"data\",\n  \"rows\": 569,\n  \"fields\": [\n    {\n      \"column\": \"mean_radius\",\n      \"properties\": {\n        \"dtype\": \"number\",\n        \"std\": 3.5240488262120775,\n        \"min\": 6.981,\n        \"max\": 28.11,\n        \"num_unique_values\": 456,\n        \"samples\": [\n          11.87,\n          13.44,\n          12.96\n        ],\n        \"semantic_type\": \"\",\n        \"description\": \"\"\n      }\n    },\n    {\n      \"column\": \"mean_texture\",\n      \"properties\": {\n        \"dtype\": \"number\",\n        \"std\": 4.301035768166949,\n        \"min\": 9.71,\n        \"max\": 39.28,\n        \"num_unique_values\": 479,\n        \"samples\": [\n          17.84,\n          17.07,\n          18.57\n        ],\n        \"semantic_type\": \"\",\n        \"description\": \"\"\n      }\n    },\n    {\n      \"column\": \"mean_smoothness\",\n      \"properties\": {\n        \"dtype\": \"number\",\n        \"std\": 0.01406412813767362,\n        \"min\": 0.05263,\n        \"max\": 0.1634,\n        \"num_unique_values\": 474,\n        \"samples\": [\n          0.09427,\n          0.09003,\n          0.1186\n        ],\n        \"semantic_type\": \"\",\n        \"description\": \"\"\n      }\n    },\n    {\n      \"column\": \"diagnosis\",\n      \"properties\": {\n        \"dtype\": \"number\",\n        \"std\": 0,\n        \"min\": 0,\n        \"max\": 1,\n        \"num_unique_values\": 2,\n        \"samples\": [\n          1,\n          0\n        ],\n        \"semantic_type\": \"\",\n        \"description\": \"\"\n      }\n    }\n  ]\n}"
            }
          },
          "metadata": {},
          "execution_count": 58
        }
      ],
      "source": [
        "data = data[[\"mean_radius\", \"mean_texture\", \"mean_smoothness\", \"diagnosis\"]]\n",
        "data.head(10)"
      ]
    },
    {
      "cell_type": "code",
      "execution_count": null,
      "metadata": {
        "id": "IUD7Ez5bGSO2",
        "colab": {
          "base_uri": "https://localhost:8080/",
          "height": 519
        },
        "outputId": "34b3ac82-2769-4c09-b0c5-5c60cec657b0"
      },
      "outputs": [
        {
          "output_type": "execute_result",
          "data": {
            "text/plain": [
              "<Axes: xlabel='mean_texture', ylabel='Count'>"
            ]
          },
          "metadata": {},
          "execution_count": 59
        },
        {
          "output_type": "display_data",
          "data": {
            "text/plain": [
              "<Figure size 1800x600 with 3 Axes>"
            ],
            "image/png": "[encoded data removed]"
          },
          "metadata": {}
        }
      ],
      "source": [
        "fig, axes = plt.subplots(1, 3, figsize=(18, 6), sharey=True)\n",
        "sns.histplot(data, ax=axes[0], x=\"mean_radius\", kde=True, color='r')\n",
        "sns.histplot(data, ax=axes[1], x=\"mean_smoothness\", kde=True, color='b')\n",
        "sns.histplot(data, ax=axes[2], x=\"mean_texture\", kde=True)\n"
      ]
    },
    {
      "cell_type": "markdown",
      "source": [
        "![image.png](data:image/png;base64,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)"
      ],
      "metadata": {
        "id": "6USvEJMoYCxp"
      }
    },
    {
      "source": [
        "## Calculate P(Y=y) for all possible y\n",
        "\n",
        "---\n",
        "\n"
      ],
      "cell_type": "markdown",
      "metadata": {
        "id": "plu_RZjcGSO2"
      }
    },
    {
      "cell_type": "code",
      "execution_count": null,
      "metadata": {
        "id": "-kZpr3bOGSO2"
      },
      "outputs": [],
      "source": [
        "def calculate_prior(df, Y):\n",
        "    classes = sorted(list(df[Y].unique()))\n",
        "    prior = []\n",
        "    for i in classes:\n",
        "        prior.append(len(df[df[Y]==i])/len(df))\n",
        "    return prior"
      ]
    },
    {
      "source": [
        "## Approach 1: Calculate P(X=x|Y=y) using Gaussian dist."
      ],
      "cell_type": "markdown",
      "metadata": {
        "id": "VM4WGqPpGSO3"
      }
    },
    {
      "cell_type": "code",
      "execution_count": null,
      "metadata": {
        "id": "j0Ns4q5gGSO3"
      },
      "outputs": [],
      "source": [
        "def calculate_likelihood_gaussian(df, feat_name, feat_val, Y, label):\n",
        "    feat = list(df.columns)\n",
        "    df = df[df[Y]==label]\n",
        "    mean, std = df[feat_name].mean(), df[feat_name].std()\n",
        "    p_x_given_y = (1 / (np.sqrt(2 * np.pi) * std)) *  np.exp(-((feat_val-mean)**2 / (2 * std**2 )))\n",
        "    return p_x_given_y"
      ]
    },
    {
      "source": [
        "## Calculate P(X=x1|Y=y)P(X=x2|Y=y)...P(X=xn|Y=y) * P(Y=y) for all y and find the maximum"
      ],
      "cell_type": "markdown",
      "metadata": {
        "id": "jXCB3SyHGSO3"
      }
    },
    {
      "cell_type": "code",
      "execution_count": null,
      "metadata": {
        "id": "N2RtlDDSGSO3"
      },
      "outputs": [],
      "source": [
        "def naive_bayes_gaussian(df, X, Y):\n",
        "    # get feature names\n",
        "    features = list(df.columns)[:-1]\n",
        "\n",
        "    # calculate prior\n",
        "    prior = calculate_prior(df, Y)\n",
        "\n",
        "    Y_pred = []\n",
        "    # loop over every data sample\n",
        "    for x in X:\n",
        "        # calculate likelihood\n",
        "        labels = sorted(list(df[Y].unique()))\n",
        "        likelihood = [1]*len(labels)\n",
        "        for j in range(len(labels)):\n",
        "            for i in range(len(features)):\n",
        "                likelihood[j] *= calculate_likelihood_gaussian(df, features[i], x[i], Y, labels[j])\n",
        "\n",
        "        # calculate posterior probability (numerator only)\n",
        "        post_prob = [1]*len(labels)\n",
        "        for j in range(len(labels)):\n",
        "            post_prob[j] = likelihood[j] * prior[j]\n",
        "\n",
        "        Y_pred.append(np.argmax(post_prob))\n",
        "\n",
        "    return np.array(Y_pred)"
      ]
    },
    {
      "cell_type": "markdown",
      "source": [
        "# Calculating and Returning Prediction Probability"
      ],
      "metadata": {
        "id": "CnkVUGFMPjOo"
      }
    },
    {
      "cell_type": "code",
      "source": [
        "def naive_bayes_gaussian_prob(df, X, Y):\n",
        "    # get feature names\n",
        "    features = list(df.columns)[:-1]\n",
        "\n",
        "    # calculate prior\n",
        "    prior = calculate_prior(df, Y)\n",
        "\n",
        "    Y_prob = []\n",
        "    # loop over every data sample\n",
        "    for x in X:\n",
        "        # calculate likelihood\n",
        "        labels = sorted(list(df[Y].unique()))\n",
        "        likelihood = [1]*len(labels)\n",
        "        for j in range(len(labels)):\n",
        "            for i in range(len(features)):\n",
        "                likelihood[j] *= calculate_likelihood_gaussian(df, features[i], x[i], Y, labels[j])\n",
        "\n",
        "        # calculate posterior probability\n",
        "        post_prob = [1]*len(labels)\n",
        "        for j in range(len(labels)):\n",
        "            post_prob[j] = likelihood[j] * prior[j]\n",
        "\n",
        "        # calculate probability estimates (normalize by the sum of posteriors)\n",
        "        prob = post_prob / np.sum(post_prob)\n",
        "        Y_prob.append(prob)\n",
        "\n",
        "    return np.array(Y_prob)"
      ],
      "metadata": {
        "id": "Yuw_-CnFMMj_"
      },
      "execution_count": null,
      "outputs": []
    },
    {
      "source": [
        "## Test Gaussian model"
      ],
      "cell_type": "markdown",
      "metadata": {
        "id": "iBiI5C-4GSO4"
      }
    },
    {
      "cell_type": "code",
      "execution_count": null,
      "metadata": {
        "colab": {
          "base_uri": "https://localhost:8080/"
        },
        "id": "jFdvkcqQGSO4",
        "outputId": "26faa26a-c45d-42d8-f0b3-ea84b898704f"
      },
      "outputs": [
        {
          "output_type": "stream",
          "name": "stdout",
          "text": [
            "[[36  4]\n",
            " [ 0 74]]\n",
            "0.9736842105263158\n"
          ]
        }
      ],
      "source": [
        "from sklearn.model_selection import train_test_split\n",
        "train, test = train_test_split(data, test_size=.2, random_state=41)\n",
        "\n",
        "X_test = test.iloc[:,:-1].values\n",
        "Y_test = test.iloc[:,-1].values\n",
        "Y_pred = naive_bayes_gaussian(train, X=X_test, Y=\"diagnosis\")\n",
        "\n",
        "from sklearn.metrics import confusion_matrix, f1_score\n",
        "print(confusion_matrix(Y_test, Y_pred))\n",
        "print(f1_score(Y_test, Y_pred))"
      ]
    },
    {
      "cell_type": "markdown",
      "source": [
        "what does means 0? false negative ... and what about 4? false positive"
      ],
      "metadata": {
        "id": "vQXrejLZRLzn"
      }
    },
    {
      "cell_type": "code",
      "source": [
        "Y_proba = naive_bayes_gaussian_prob(train, X=X_test, Y=\"diagnosis\")[:,1]"
      ],
      "metadata": {
        "id": "KrG0QLfXMYKM"
      },
      "execution_count": null,
      "outputs": []
    },
    {
      "cell_type": "markdown",
      "source": [
        "# Implementation of Accuracy\n"
      ],
      "metadata": {
        "id": "sM4tFpjPRcfU"
      }
    },
    {
      "cell_type": "code",
      "source": [
        "def calculate_accuracy(y_true, y_pred):\n",
        "    # Ensure that the lengths of y_true and y_pred are the same\n",
        "    if len(y_true) != len(y_pred):\n",
        "        raise ValueError(\"Lengths of y_true and y_pred must be the same.\")\n",
        "\n",
        "    # Count the number of correctly predicted labels\n",
        "    correct_predictions = sum(1 for true, pred in zip(y_true, y_pred) if true == pred)\n",
        "\n",
        "    # Calculate accuracy\n",
        "    accuracy = correct_predictions / len(y_true)\n",
        "\n",
        "    return accuracy"
      ],
      "metadata": {
        "id": "9KBvhHmlRbT_"
      },
      "execution_count": null,
      "outputs": []
    },
    {
      "cell_type": "code",
      "source": [
        "accuracy_score_calculation = calculate_accuracy(Y_test, Y_pred)"
      ],
      "metadata": {
        "id": "IBicyCSfRx9f"
      },
      "execution_count": null,
      "outputs": []
    },
    {
      "cell_type": "code",
      "source": [
        "print(\"Accuracy: \" + str(accuracy_score_calculation))"
      ],
      "metadata": {
        "colab": {
          "base_uri": "https://localhost:8080/"
        },
        "id": "WCasTX7RR9y3",
        "outputId": "2923c88f-23f8-432e-a83f-eb8d8b14cf01"
      },
      "execution_count": null,
      "outputs": [
        {
          "output_type": "stream",
          "name": "stdout",
          "text": [
            "Accuracy: 0.9649122807017544\n"
          ]
        }
      ]
    },
    {
      "cell_type": "markdown",
      "source": [
        "# Implementation of Confusion Matrix"
      ],
      "metadata": {
        "id": "POCePNrmSbEM"
      }
    },
    {
      "cell_type": "code",
      "source": [
        "def calculate_confusion_matrix(y_true, y_pred, num_classes=None):\n",
        "    # If num_classes is not provided, infer it from y_true and y_pred\n",
        "    if num_classes is None:\n",
        "        num_classes = max(max(y_true), max(y_pred)) + 1\n",
        "\n",
        "    # Initialize confusion matrix\n",
        "    confusion = np.zeros((num_classes, num_classes), dtype=int)\n",
        "\n",
        "    # Fill confusion matrix\n",
        "    for true, pred in zip(y_true, y_pred):\n",
        "        confusion[true][pred] += 1\n",
        "\n",
        "    return confusion"
      ],
      "metadata": {
        "id": "uBKd8wpmRbV3"
      },
      "execution_count": null,
      "outputs": []
    },
    {
      "cell_type": "code",
      "source": [
        "print(\"Confusion Matrix: \\n\" + str(calculate_confusion_matrix(Y_test, Y_pred)))"
      ],
      "metadata": {
        "colab": {
          "base_uri": "https://localhost:8080/"
        },
        "id": "TJx7MybYRbX3",
        "outputId": "92dc9094-e531-4365-eb5b-73e3d638ae15"
      },
      "execution_count": null,
      "outputs": [
        {
          "output_type": "stream",
          "name": "stdout",
          "text": [
            "Confusion Matrix: \n",
            "[[36  4]\n",
            " [ 0 74]]\n"
          ]
        }
      ]
    },
    {
      "cell_type": "markdown",
      "source": [
        "#Implementation of Precision"
      ],
      "metadata": {
        "id": "ADvFeXYmS5Ep"
      }
    },
    {
      "cell_type": "code",
      "source": [
        "def calculate_precision(y_true, y_pred, positive_label=1):\n",
        "\n",
        "\n",
        "    true_positive = sum(1 for true, pred in zip(y_true, y_pred) if true == pred == positive_label)\n",
        "    false_positive = sum(1 for true, pred in zip(y_true, y_pred) if true != pred and pred == positive_label)\n",
        "\n",
        "    if true_positive + false_positive == 0:\n",
        "        return 0.0\n",
        "\n",
        "    precision = true_positive / (true_positive + false_positive)\n",
        "    return precision"
      ],
      "metadata": {
        "id": "cTJ36jXjRbZW"
      },
      "execution_count": null,
      "outputs": []
    },
    {
      "cell_type": "code",
      "source": [
        "print(\"Precision: \" + str(calculate_precision(Y_test, Y_pred)))"
      ],
      "metadata": {
        "colab": {
          "base_uri": "https://localhost:8080/"
        },
        "id": "o4bzeD8YTGnP",
        "outputId": "fff7d6ee-3b13-4685-fa1c-66b5d0798e36"
      },
      "execution_count": null,
      "outputs": [
        {
          "output_type": "stream",
          "name": "stdout",
          "text": [
            "Precision: 0.9487179487179487\n"
          ]
        }
      ]
    },
    {
      "cell_type": "markdown",
      "source": [
        "# Implementation of Recall"
      ],
      "metadata": {
        "id": "KRdFrJdaT26w"
      }
    },
    {
      "cell_type": "code",
      "source": [
        "def calculate_recall(y_true, y_pred, positive_label=1):\n",
        "\n",
        "    true_positive = sum(1 for true, pred in zip(y_true, y_pred) if true == pred == positive_label)\n",
        "    false_negative = sum(1 for true, pred in zip(y_true, y_pred) if true != pred and true == positive_label)\n",
        "\n",
        "    if true_positive + false_negative == 0:\n",
        "        return 0.0\n",
        "\n",
        "    recall = true_positive / (true_positive + false_negative)\n",
        "    return recall"
      ],
      "metadata": {
        "id": "sEwoOIPlRba3"
      },
      "execution_count": null,
      "outputs": []
    },
    {
      "cell_type": "code",
      "source": [
        "print(\"Recall: \" + str(calculate_recall(Y_test, Y_pred)))"
      ],
      "metadata": {
        "colab": {
          "base_uri": "https://localhost:8080/"
        },
        "id": "xVZb5AYiRbc5",
        "outputId": "1925ec8f-ea80-4a6b-93b2-62d10902fd75"
      },
      "execution_count": null,
      "outputs": [
        {
          "output_type": "stream",
          "name": "stdout",
          "text": [
            "Recall: 1.0\n"
          ]
        }
      ]
    },
    {
      "cell_type": "markdown",
      "source": [
        "#Implementatio of F1 Score"
      ],
      "metadata": {
        "id": "kRJ0ONZUUUHl"
      }
    },
    {
      "cell_type": "code",
      "source": [
        "def calculate_f1_score(y_true, y_pred, positive_label=1):\n",
        "\n",
        "    # Calculate precision\n",
        "    precision_val = calculate_precision(y_true, y_pred, positive_label)\n",
        "\n",
        "    # Calculate recall\n",
        "    recall_val = calculate_recall(y_true, y_pred, positive_label)\n",
        "\n",
        "    # Avoid division by zero\n",
        "    if precision_val + recall_val == 0:\n",
        "        return 0.0\n",
        "\n",
        "    # Calculate F1 score\n",
        "    f1 = 2 * (precision_val * recall_val) / (precision_val + recall_val)\n",
        "\n",
        "    return f1"
      ],
      "metadata": {
        "id": "AXsslMj8UYJa"
      },
      "execution_count": null,
      "outputs": []
    },
    {
      "cell_type": "code",
      "source": [
        "print(\"F1 Score: \" + str(calculate_f1_score(Y_test, Y_pred)))"
      ],
      "metadata": {
        "colab": {
          "base_uri": "https://localhost:8080/"
        },
        "id": "BpyO9H2TUosg",
        "outputId": "2bfb3247-b5d8-4915-e5ac-885b9e347da4"
      },
      "execution_count": null,
      "outputs": [
        {
          "output_type": "stream",
          "name": "stdout",
          "text": [
            "F1 Score: 0.9736842105263158\n"
          ]
        }
      ]
    },
    {
      "cell_type": "markdown",
      "source": [
        "#Implementation of ROC"
      ],
      "metadata": {
        "id": "NCigRfi3VmsC"
      }
    },
    {
      "cell_type": "code",
      "source": [
        "def calculate_roc_curve(y_true, y_score):\n",
        "\n",
        "    # Combine true labels and predicted scores into tuples\n",
        "    combined = list(zip(y_true, y_score))\n",
        "    # Sort the combined list by predicted score in descending order\n",
        "    combined_sorted = sorted(combined, key=lambda x: x[1], reverse=True)\n",
        "\n",
        "    # Initialize arrays to store true positive rate (TPR), false positive rate (FPR), and thresholds\n",
        "    tpr = [0]\n",
        "    fpr = [0]\n",
        "    thresholds = [1]  # Start with threshold 1 for calculating TPR and FPR at threshold = 0\n",
        "\n",
        "    # Calculate total number of positive and negative samples\n",
        "    num_positives = sum(y_true)\n",
        "    num_negatives = len(y_true) - num_positives\n",
        "\n",
        "    # Initialize variables to store counts of true positives (TP) and false positives (FP)\n",
        "    tp_count = 0\n",
        "    fp_count = 0\n",
        "\n",
        "    # Iterate through sorted list to calculate TPR and FPR for each threshold\n",
        "    for true_label, score in combined_sorted:\n",
        "        if true_label == 1:\n",
        "            tp_count += 1\n",
        "        else:\n",
        "            fp_count += 1\n",
        "\n",
        "        tpr.append(tp_count / num_positives)\n",
        "        fpr.append(fp_count / num_negatives)\n",
        "        thresholds.append(score)\n",
        "\n",
        "    return np.array(fpr), np.array(tpr), np.array(thresholds)\n"
      ],
      "metadata": {
        "id": "Eu8YJPcdVia_"
      },
      "execution_count": null,
      "outputs": []
    },
    {
      "cell_type": "code",
      "source": [
        "fpr, tpr, thresholds = calculate_roc_curve(Y_test, Y_proba)"
      ],
      "metadata": {
        "id": "a6ls3eaUICCP"
      },
      "execution_count": null,
      "outputs": []
    },
    {
      "cell_type": "markdown",
      "source": [
        "# Implementation of AUC"
      ],
      "metadata": {
        "id": "NXgnkymFWWO1"
      }
    },
    {
      "cell_type": "code",
      "source": [
        "def calculate_auc(y_true, y_score):\n",
        "\n",
        "    fpr, tpr, th = calculate_roc_curve(y_true, y_score)\n",
        "\n",
        "    # Calculate the area under the ROC curve using trapezoidal rule\n",
        "    auc_score = np.trapz(tpr, fpr)\n",
        "\n",
        "    return auc_score"
      ],
      "metadata": {
        "id": "i7N2-E7eWZB_"
      },
      "execution_count": null,
      "outputs": []
    },
    {
      "cell_type": "code",
      "source": [
        "auc_score = auc(fpr, tpr)"
      ],
      "metadata": {
        "id": "oaZnVzO9zccO"
      },
      "execution_count": null,
      "outputs": []
    },
    {
      "cell_type": "code",
      "source": [
        "auc_score"
      ],
      "metadata": {
        "colab": {
          "base_uri": "https://localhost:8080/"
        },
        "id": "zy4G00eNz5SI",
        "outputId": "5fa2b86b-a636-4f2d-e8d3-1718b41d9a08"
      },
      "execution_count": null,
      "outputs": [
        {
          "output_type": "execute_result",
          "data": {
            "text/plain": [
              "0.9972972972972973"
            ]
          },
          "metadata": {},
          "execution_count": 81
        }
      ]
    },
    {
      "cell_type": "code",
      "source": [
        "print(\"AUC: \" + str(calculate_auc(Y_test, Y_proba)))"
      ],
      "metadata": {
        "colab": {
          "base_uri": "https://localhost:8080/"
        },
        "id": "SWjvXyx-Wvs6",
        "outputId": "41de68ff-3e08-4269-8139-da681a02fcd4"
      },
      "execution_count": null,
      "outputs": [
        {
          "output_type": "stream",
          "name": "stdout",
          "text": [
            "AUC: 0.9972972972972973\n"
          ]
        }
      ]
    },
    {
      "cell_type": "markdown",
      "source": [
        "# Plot of ROC Curve"
      ],
      "metadata": {
        "id": "6LCP6kWBW8G1"
      }
    },
    {
      "cell_type": "code",
      "source": [
        "# Plot ROC curve\n",
        "plt.plot(fpr, tpr, color='blue', label='ROC Curve (AUC = {:.2f})'.format(auc_score))\n",
        "plt.plot([0, 1], [0, 1], color='red', linestyle='--')\n",
        "plt.xlabel('False Positive Rate')\n",
        "plt.ylabel('True Positive Rate')\n",
        "plt.title('Receiver Operating Characteristic (ROC) Curve')\n",
        "plt.legend()\n",
        "plt.show()"
      ],
      "metadata": {
        "colab": {
          "base_uri": "https://localhost:8080/",
          "height": 286
        },
        "id": "7t9J8N5HN4sV",
        "outputId": "fcc77908-697e-4f7e-9b38-507c1d2ab96d"
      },
      "execution_count": null,
      "outputs": [
        {
          "output_type": "display_data",
          "data": {
            "text/plain": [
              "<Figure size 640x480 with 1 Axes>"
            ],
            "image/png": "[encoded data removed]"
          },
          "metadata": {}
        }
      ]
    },
    {
      "cell_type": "markdown",
      "source": [
        "# Implentation of Log Loss"
      ],
      "metadata": {
        "id": "NLdRjmVQb96X"
      }
    },
    {
      "cell_type": "code",
      "source": [
        "def calculate_log_loss(y_true, y_pred):\n",
        "\n",
        "    epsilon = 1e-15  # Small value to avoid log(0)\n",
        "\n",
        "    # Clip predicted probabilities to avoid log(0) or log(1)\n",
        "    y_pred = np.clip(y_pred, epsilon, 1 - epsilon)\n",
        "\n",
        "    # Compute log loss\n",
        "    loss = -np.mean(y_true * np.log(y_pred) + (1 - y_true) * np.log(1 - y_pred))\n",
        "\n",
        "    return loss"
      ],
      "metadata": {
        "id": "TZnfjhk7cAi9"
      },
      "execution_count": null,
      "outputs": []
    },
    {
      "cell_type": "code",
      "source": [
        "print(\"Log Loss: \" + str(calculate_log_loss(Y_test, Y_pred)))"
      ],
      "metadata": {
        "colab": {
          "base_uri": "https://localhost:8080/"
        },
        "id": "cUgcG9kAcNqL",
        "outputId": "fde8fe73-1379-4856-982e-2be8e2bc5a0b"
      },
      "execution_count": null,
      "outputs": [
        {
          "output_type": "stream",
          "name": "stdout",
          "text": [
            "Log Loss: 1.2119149470996806\n"
          ]
        }
      ]
    },
    {
      "cell_type": "markdown",
      "source": [
        "# Verifing the implemented Accuracy, Confusion Matrix, Precision, Recall, F1 Score, AUC and Log Loss using Scikit Learn Library"
      ],
      "metadata": {
        "id": "zRUpROfvXFR1"
      }
    },
    {
      "cell_type": "code",
      "source": [
        "print(\"Accuracy: \" + str(accuracy_score(Y_test, Y_pred)))\n",
        "print(\"Confusion Matrix: \\n\" + str(confusion_matrix(Y_test, Y_pred)))\n",
        "print(\"Precision: \" + str(precision_score(Y_test, Y_pred)))\n",
        "print(\"Recall: \" + str(recall_score(Y_test, Y_pred)))\n",
        "print(\"F1 Score: \" + str(f1_score(Y_test, Y_pred)))\n",
        "print(\"AUC: \" + str(roc_auc_score(Y_test, Y_proba)))\n",
        "print(\"Log Loss: \" + str(log_loss(Y_test, Y_pred)))"
      ],
      "metadata": {
        "colab": {
          "base_uri": "https://localhost:8080/"
        },
        "id": "tj6fHMR-jBaV",
        "outputId": "3e1d25a5-12b1-4b72-acc8-98865f756c7d"
      },
      "execution_count": null,
      "outputs": [
        {
          "output_type": "stream",
          "name": "stdout",
          "text": [
            "Accuracy: 0.9649122807017544\n",
            "Confusion Matrix: \n",
            "[[36  4]\n",
            " [ 0 74]]\n",
            "Precision: 0.9487179487179487\n",
            "Recall: 1.0\n",
            "F1 Score: 0.9736842105263158\n",
            "AUC: 0.9972972972972973\n",
            "Log Loss: 1.2646895926006019\n"
          ]
        }
      ]
    },
    {
      "source": [
        "## Convert continuous features to Categorical features"
      ],
      "cell_type": "markdown",
      "metadata": {
        "id": "qu6a0GUfGSO4"
      }
    },
    {
      "cell_type": "code",
      "execution_count": null,
      "metadata": {
        "colab": {
          "base_uri": "https://localhost:8080/",
          "height": 383
        },
        "id": "e9YiO_NQGSO4",
        "outputId": "d69fa9e9-bac8-4348-b1ec-fba4eba3cf28"
      },
      "outputs": [
        {
          "output_type": "execute_result",
          "data": {
            "text/plain": [
              "  cat_mean_radius cat_mean_texture cat_mean_smoothness  diagnosis\n",
              "0               1                0                   1          0\n",
              "1               1                0                   0          0\n",
              "2               1                1                   1          0\n",
              "3               0                1                   2          0\n",
              "4               1                0                   1          0\n",
              "5               0                0                   2          0\n",
              "6               1                1                   1          0\n",
              "7               0                1                   1          0\n",
              "8               0                1                   2          0\n",
              "9               0                1                   1          0"
            ],
            "text/html": [
              "\n",
              "  <div id=\"df-01b773ea-b2a3-4f49-8dd4-3b7c265973f4\" class=\"colab-df-container\">\n",
              "    <div>\n",
              "<style scoped>\n",
              "    .dataframe tbody tr th:only-of-type {\n",
              "        vertical-align: middle;\n",
              "    }\n",
              "\n",
              "    .dataframe tbody tr th {\n",
              "        vertical-align: top;\n",
              "    }\n",
              "\n",
              "    .dataframe thead th {\n",
              "        text-align: right;\n",
              "    }\n",
              "</style>\n",
              "<table border=\"1\" class=\"dataframe\">\n",
              "  <thead>\n",
              "    <tr style=\"text-align: right;\">\n",
              "      <th></th>\n",
              "      <th>cat_mean_radius</th>\n",
              "      <th>cat_mean_texture</th>\n",
              "      <th>cat_mean_smoothness</th>\n",
              "      <th>diagnosis</th>\n",
              "    </tr>\n",
              "  </thead>\n",
              "  <tbody>\n",
              "    <tr>\n",
              "      <th>0</th>\n",
              "      <td>1</td>\n",
              "      <td>0</td>\n",
              "      <td>1</td>\n",
              "      <td>0</td>\n",
              "    </tr>\n",
              "    <tr>\n",
              "      <th>1</th>\n",
              "      <td>1</td>\n",
              "      <td>0</td>\n",
              "      <td>0</td>\n",
              "      <td>0</td>\n",
              "    </tr>\n",
              "    <tr>\n",
              "      <th>2</th>\n",
              "      <td>1</td>\n",
              "      <td>1</td>\n",
              "      <td>1</td>\n",
              "      <td>0</td>\n",
              "    </tr>\n",
              "    <tr>\n",
              "      <th>3</th>\n",
              "      <td>0</td>\n",
              "      <td>1</td>\n",
              "      <td>2</td>\n",
              "      <td>0</td>\n",
              "    </tr>\n",
              "    <tr>\n",
              "      <th>4</th>\n",
              "      <td>1</td>\n",
              "      <td>0</td>\n",
              "      <td>1</td>\n",
              "      <td>0</td>\n",
              "    </tr>\n",
              "    <tr>\n",
              "      <th>5</th>\n",
              "      <td>0</td>\n",
              "      <td>0</td>\n",
              "      <td>2</td>\n",
              "      <td>0</td>\n",
              "    </tr>\n",
              "    <tr>\n",
              "      <th>6</th>\n",
              "      <td>1</td>\n",
              "      <td>1</td>\n",
              "      <td>1</td>\n",
              "      <td>0</td>\n",
              "    </tr>\n",
              "    <tr>\n",
              "      <th>7</th>\n",
              "      <td>0</td>\n",
              "      <td>1</td>\n",
              "      <td>1</td>\n",
              "      <td>0</td>\n",
              "    </tr>\n",
              "    <tr>\n",
              "      <th>8</th>\n",
              "      <td>0</td>\n",
              "      <td>1</td>\n",
              "      <td>2</td>\n",
              "      <td>0</td>\n",
              "    </tr>\n",
              "    <tr>\n",
              "      <th>9</th>\n",
              "      <td>0</td>\n",
              "      <td>1</td>\n",
              "      <td>1</td>\n",
              "      <td>0</td>\n",
              "    </tr>\n",
              "  </tbody>\n",
              "</table>\n",
              "</div>\n",
              "    <div class=\"colab-df-buttons\">\n",
              "\n",
              "  <div class=\"colab-df-container\">\n",
              "    <button class=\"colab-df-convert\" onclick=\"convertToInteractive('df-01b773ea-b2a3-4f49-8dd4-3b7c265973f4')\"\n",
              "            title=\"Convert this dataframe to an interactive table.\"\n",
              "            style=\"display:none;\">\n",
              "\n",
              "  <svg xmlns=\"http://www.w3.org/2000/svg\" height=\"24px\" viewBox=\"0 -960 960 960\">\n",
              "    <path d=\"M120-120v-720h720v720H120Zm60-500h600v-160H180v160Zm220 220h160v-160H400v160Zm0 220h160v-160H400v160ZM180-400h160v-160H180v160Zm440 0h160v-160H620v160ZM180-180h160v-160H180v160Zm440 0h160v-160H620v160Z\"/>\n",
              "  </svg>\n",
              "    </button>\n",
              "\n",
              "  <style>\n",
              "    .colab-df-container {\n",
              "      display:flex;\n",
              "      gap: 12px;\n",
              "    }\n",
              "\n",
              "    .colab-df-convert {\n",
              "      background-color: #E8F0FE;\n",
              "      border: none;\n",
              "      border-radius: 50%;\n",
              "      cursor: pointer;\n",
              "      display: none;\n",
              "      fill: #1967D2;\n",
              "      height: 32px;\n",
              "      padding: 0 0 0 0;\n",
              "      width: 32px;\n",
              "    }\n",
              "\n",
              "    .colab-df-convert:hover {\n",
              "      background-color: #E2EBFA;\n",
              "      box-shadow: 0px 1px 2px rgba(60, 64, 67, 0.3), 0px 1px 3px 1px rgba(60, 64, 67, 0.15);\n",
              "      fill: #174EA6;\n",
              "    }\n",
              "\n",
              "    .colab-df-buttons div {\n",
              "      margin-bottom: 4px;\n",
              "    }\n",
              "\n",
              "    [theme=dark] .colab-df-convert {\n",
              "      background-color: #3B4455;\n",
              "      fill: #D2E3FC;\n",
              "    }\n",
              "\n",
              "    [theme=dark] .colab-df-convert:hover {\n",
              "      background-color: #434B5C;\n",
              "      box-shadow: 0px 1px 3px 1px rgba(0, 0, 0, 0.15);\n",
              "      filter: drop-shadow(0px 1px 2px rgba(0, 0, 0, 0.3));\n",
              "      fill: #FFFFFF;\n",
              "    }\n",
              "  </style>\n",
              "\n",
              "    <script>\n",
              "      const buttonEl =\n",
              "        document.querySelector('#df-01b773ea-b2a3-4f49-8dd4-3b7c265973f4 button.colab-df-convert');\n",
              "      buttonEl.style.display =\n",
              "        google.colab.kernel.accessAllowed ? 'block' : 'none';\n",
              "\n",
              "      async function convertToInteractive(key) {\n",
              "        const element = document.querySelector('#df-01b773ea-b2a3-4f49-8dd4-3b7c265973f4');\n",
              "        const dataTable =\n",
              "          await google.colab.kernel.invokeFunction('convertToInteractive',\n",
              "                                                    [key], {});\n",
              "        if (!dataTable) return;\n",
              "\n",
              "        const docLinkHtml = 'Like what you see? Visit the ' +\n",
              "          '<a target=\"_blank\" href=https://colab.research.google.com/notebooks/data_table.ipynb>data table notebook</a>'\n",
              "          + ' to learn more about interactive tables.';\n",
              "        element.innerHTML = '';\n",
              "        dataTable['output_type'] = 'display_data';\n",
              "        await google.colab.output.renderOutput(dataTable, element);\n",
              "        const docLink = document.createElement('div');\n",
              "        docLink.innerHTML = docLinkHtml;\n",
              "        element.appendChild(docLink);\n",
              "      }\n",
              "    </script>\n",
              "  </div>\n",
              "\n",
              "\n",
              "<div id=\"df-d81c58a1-a2e0-45fe-bc65-d3d656518acf\">\n",
              "  <button class=\"colab-df-quickchart\" onclick=\"quickchart('df-d81c58a1-a2e0-45fe-bc65-d3d656518acf')\"\n",
              "            title=\"Suggest charts\"\n",
              "            style=\"display:none;\">\n",
              "\n",
              "<svg xmlns=\"http://www.w3.org/2000/svg\" height=\"24px\"viewBox=\"0 0 24 24\"\n",
              "     width=\"24px\">\n",
              "    <g>\n",
              "        <path d=\"M19 3H5c-1.1 0-2 .9-2 2v14c0 1.1.9 2 2 2h14c1.1 0 2-.9 2-2V5c0-1.1-.9-2-2-2zM9 17H7v-7h2v7zm4 0h-2V7h2v10zm4 0h-2v-4h2v4z\"/>\n",
              "    </g>\n",
              "</svg>\n",
              "  </button>\n",
              "\n",
              "<style>\n",
              "  .colab-df-quickchart {\n",
              "      --bg-color: #E8F0FE;\n",
              "      --fill-color: #1967D2;\n",
              "      --hover-bg-color: #E2EBFA;\n",
              "      --hover-fill-color: #174EA6;\n",
              "      --disabled-fill-color: #AAA;\n",
              "      --disabled-bg-color: #DDD;\n",
              "  }\n",
              "\n",
              "  [theme=dark] .colab-df-quickchart {\n",
              "      --bg-color: #3B4455;\n",
              "      --fill-color: #D2E3FC;\n",
              "      --hover-bg-color: #434B5C;\n",
              "      --hover-fill-color: #FFFFFF;\n",
              "      --disabled-bg-color: #3B4455;\n",
              "      --disabled-fill-color: #666;\n",
              "  }\n",
              "\n",
              "  .colab-df-quickchart {\n",
              "    background-color: var(--bg-color);\n",
              "    border: none;\n",
              "    border-radius: 50%;\n",
              "    cursor: pointer;\n",
              "    display: none;\n",
              "    fill: var(--fill-color);\n",
              "    height: 32px;\n",
              "    padding: 0;\n",
              "    width: 32px;\n",
              "  }\n",
              "\n",
              "  .colab-df-quickchart:hover {\n",
              "    background-color: var(--hover-bg-color);\n",
              "    box-shadow: 0 1px 2px rgba(60, 64, 67, 0.3), 0 1px 3px 1px rgba(60, 64, 67, 0.15);\n",
              "    fill: var(--button-hover-fill-color);\n",
              "  }\n",
              "\n",
              "  .colab-df-quickchart-complete:disabled,\n",
              "  .colab-df-quickchart-complete:disabled:hover {\n",
              "    background-color: var(--disabled-bg-color);\n",
              "    fill: var(--disabled-fill-color);\n",
              "    box-shadow: none;\n",
              "  }\n",
              "\n",
              "  .colab-df-spinner {\n",
              "    border: 2px solid var(--fill-color);\n",
              "    border-color: transparent;\n",
              "    border-bottom-color: var(--fill-color);\n",
              "    animation:\n",
              "      spin 1s steps(1) infinite;\n",
              "  }\n",
              "\n",
              "  @keyframes spin {\n",
              "    0% {\n",
              "      border-color: transparent;\n",
              "      border-bottom-color: var(--fill-color);\n",
              "      border-left-color: var(--fill-color);\n",
              "    }\n",
              "    20% {\n",
              "      border-color: transparent;\n",
              "      border-left-color: var(--fill-color);\n",
              "      border-top-color: var(--fill-color);\n",
              "    }\n",
              "    30% {\n",
              "      border-color: transparent;\n",
              "      border-left-color: var(--fill-color);\n",
              "      border-top-color: var(--fill-color);\n",
              "      border-right-color: var(--fill-color);\n",
              "    }\n",
              "    40% {\n",
              "      border-color: transparent;\n",
              "      border-right-color: var(--fill-color);\n",
              "      border-top-color: var(--fill-color);\n",
              "    }\n",
              "    60% {\n",
              "      border-color: transparent;\n",
              "      border-right-color: var(--fill-color);\n",
              "    }\n",
              "    80% {\n",
              "      border-color: transparent;\n",
              "      border-right-color: var(--fill-color);\n",
              "      border-bottom-color: var(--fill-color);\n",
              "    }\n",
              "    90% {\n",
              "      border-color: transparent;\n",
              "      border-bottom-color: var(--fill-color);\n",
              "    }\n",
              "  }\n",
              "</style>\n",
              "\n",
              "  <script>\n",
              "    async function quickchart(key) {\n",
              "      const quickchartButtonEl =\n",
              "        document.querySelector('#' + key + ' button');\n",
              "      quickchartButtonEl.disabled = true;  // To prevent multiple clicks.\n",
              "      quickchartButtonEl.classList.add('colab-df-spinner');\n",
              "      try {\n",
              "        const charts = await google.colab.kernel.invokeFunction(\n",
              "            'suggestCharts', [key], {});\n",
              "      } catch (error) {\n",
              "        console.error('Error during call to suggestCharts:', error);\n",
              "      }\n",
              "      quickchartButtonEl.classList.remove('colab-df-spinner');\n",
              "      quickchartButtonEl.classList.add('colab-df-quickchart-complete');\n",
              "    }\n",
              "    (() => {\n",
              "      let quickchartButtonEl =\n",
              "        document.querySelector('#df-d81c58a1-a2e0-45fe-bc65-d3d656518acf button');\n",
              "      quickchartButtonEl.style.display =\n",
              "        google.colab.kernel.accessAllowed ? 'block' : 'none';\n",
              "    })();\n",
              "  </script>\n",
              "</div>\n",
              "\n",
              "    </div>\n",
              "  </div>\n"
            ],
            "application/vnd.google.colaboratory.intrinsic+json": {
              "type": "dataframe",
              "variable_name": "data",
              "summary": "{\n  \"name\": \"data\",\n  \"rows\": 569,\n  \"fields\": [\n    {\n      \"column\": \"cat_mean_radius\",\n      \"properties\": {\n        \"dtype\": \"category\",\n        \"num_unique_values\": 3,\n        \"samples\": [\n          1,\n          0,\n          2\n        ],\n        \"semantic_type\": \"\",\n        \"description\": \"\"\n      }\n    },\n    {\n      \"column\": \"cat_mean_texture\",\n      \"properties\": {\n        \"dtype\": \"category\",\n        \"num_unique_values\": 3,\n        \"samples\": [\n          0,\n          1,\n          2\n        ],\n        \"semantic_type\": \"\",\n        \"description\": \"\"\n      }\n    },\n    {\n      \"column\": \"cat_mean_smoothness\",\n      \"properties\": {\n        \"dtype\": \"category\",\n        \"num_unique_values\": 3,\n        \"samples\": [\n          1,\n          0,\n          2\n        ],\n        \"semantic_type\": \"\",\n        \"description\": \"\"\n      }\n    },\n    {\n      \"column\": \"diagnosis\",\n      \"properties\": {\n        \"dtype\": \"number\",\n        \"std\": 0,\n        \"min\": 0,\n        \"max\": 1,\n        \"num_unique_values\": 2,\n        \"samples\": [\n          1,\n          0\n        ],\n        \"semantic_type\": \"\",\n        \"description\": \"\"\n      }\n    }\n  ]\n}"
            }
          },
          "metadata": {},
          "execution_count": 87
        }
      ],
      "source": [
        "data[\"cat_mean_radius\"] = pd.cut(data[\"mean_radius\"].values, bins = 3, labels = [0,1,2])\n",
        "data[\"cat_mean_texture\"] = pd.cut(data[\"mean_texture\"].values, bins = 3, labels = [0,1,2])\n",
        "data[\"cat_mean_smoothness\"] = pd.cut(data[\"mean_smoothness\"].values, bins = 3, labels = [0,1,2])\n",
        "\n",
        "data = data.drop(columns=[\"mean_radius\", \"mean_texture\", \"mean_smoothness\"])\n",
        "data = data[[\"cat_mean_radius\",\t\"cat_mean_texture\",\t\"cat_mean_smoothness\", \"diagnosis\"]]\n",
        "data.head(10)"
      ]
    },
    {
      "source": [
        "## Approach 2: Calculate P(X=x|Y=y) categorically"
      ],
      "cell_type": "markdown",
      "metadata": {
        "id": "3BlmMgLyGSO5"
      }
    },
    {
      "cell_type": "code",
      "execution_count": null,
      "metadata": {
        "id": "Xqipwc1uGSO5"
      },
      "outputs": [],
      "source": [
        "def calculate_likelihood_categorical(df, feat_name, feat_val, Y, label):\n",
        "    feat = list(df.columns)\n",
        "    df = df[df[Y]==label]\n",
        "    p_x_given_y = len(df[df[feat_name]==feat_val]) / len(df)\n",
        "    return p_x_given_y"
      ]
    },
    {
      "source": [
        "## Calculate P(X=x1|Y=y)P(X=x2|Y=y)...P(X=xn|Y=y) * P(Y=y) for all y and find the maximum"
      ],
      "cell_type": "markdown",
      "metadata": {
        "id": "5iPUN1drGSO5"
      }
    },
    {
      "cell_type": "code",
      "execution_count": null,
      "metadata": {
        "id": "yfYJwNt-GSO7"
      },
      "outputs": [],
      "source": [
        "def naive_bayes_categorical(df, X, Y):\n",
        "    # get feature names\n",
        "    features = list(df.columns)[:-1]\n",
        "\n",
        "    # calculate prior\n",
        "    prior = calculate_prior(df, Y)\n",
        "\n",
        "    Y_pred = []\n",
        "    # loop over every data sample\n",
        "    for x in X:\n",
        "        # calculate likelihood\n",
        "        labels = sorted(list(df[Y].unique()))\n",
        "        likelihood = [1]*len(labels)\n",
        "        for j in range(len(labels)):\n",
        "            for i in range(len(features)):\n",
        "                likelihood[j] *= calculate_likelihood_categorical(df, features[i], x[i], Y, labels[j])\n",
        "\n",
        "        # calculate posterior probability (numerator only)\n",
        "        post_prob = [1]*len(labels)\n",
        "        for j in range(len(labels)):\n",
        "            post_prob[j] = likelihood[j] * prior[j]\n",
        "\n",
        "        Y_pred.append(np.argmax(post_prob))\n",
        "\n",
        "    return np.array(Y_pred)"
      ]
    },
    {
      "cell_type": "markdown",
      "source": [
        "# Calculating and Returning Prediction Probability"
      ],
      "metadata": {
        "id": "mXlLkdNoXvwd"
      }
    },
    {
      "cell_type": "code",
      "source": [
        "def naive_bayes_categorical_proba(df, X, Y):\n",
        "    # get feature names\n",
        "    features = list(df.columns)[:-1]\n",
        "\n",
        "    # calculate prior\n",
        "    prior = calculate_prior(df, Y)\n",
        "\n",
        "    Y_probs = []\n",
        "    # loop over every data sample\n",
        "    for x in X:\n",
        "        # calculate likelihood\n",
        "        labels = sorted(list(df[Y].unique()))\n",
        "        likelihood = [1] * len(labels)\n",
        "        for j in range(len(labels)):\n",
        "            for i in range(len(features)):\n",
        "                likelihood[j] *= calculate_likelihood_categorical(df, features[i], x[i], Y, labels[j])\n",
        "\n",
        "        # calculate posterior probability (numerator only)\n",
        "        post_prob = [likelihood[j] * prior[j] for j in range(len(labels))]\n",
        "\n",
        "        # normalize probabilities to sum up to 1\n",
        "        total_prob = sum(post_prob)\n",
        "        post_prob = [prob / total_prob for prob in post_prob]\n",
        "\n",
        "        Y_probs.append(post_prob)\n",
        "\n",
        "    return np.array(Y_probs)"
      ],
      "metadata": {
        "id": "nzXbUTPIXqZh"
      },
      "execution_count": null,
      "outputs": []
    },
    {
      "source": [
        "## Test Categorical model"
      ],
      "cell_type": "markdown",
      "metadata": {
        "id": "iGrxvYaGGSO7"
      }
    },
    {
      "cell_type": "code",
      "execution_count": null,
      "metadata": {
        "colab": {
          "base_uri": "https://localhost:8080/"
        },
        "id": "F03FQdhNGSO8",
        "outputId": "22113bd9-260e-46f3-c083-2ddfbf017a94"
      },
      "outputs": [
        {
          "output_type": "stream",
          "name": "stdout",
          "text": [
            "[[38  2]\n",
            " [ 5 69]]\n",
            "0.9517241379310345\n"
          ]
        }
      ],
      "source": [
        "from sklearn.model_selection import train_test_split\n",
        "train, test = train_test_split(data, test_size=.2, random_state=41)\n",
        "\n",
        "X_test = test.iloc[:,:-1].values\n",
        "Y_test = test.iloc[:,-1].values\n",
        "Y_pred = naive_bayes_categorical(train, X=X_test, Y=\"diagnosis\")\n",
        "\n",
        "from sklearn.metrics import confusion_matrix, f1_score\n",
        "print(confusion_matrix(Y_test, Y_pred))\n",
        "print(f1_score(Y_test, Y_pred))"
      ]
    },
    {
      "cell_type": "code",
      "source": [
        "Y_proba = naive_bayes_categorical_proba(train, X=X_test, Y=\"diagnosis\")[:,1]"
      ],
      "metadata": {
        "id": "u50MH2PhYLBc"
      },
      "execution_count": null,
      "outputs": []
    },
    {
      "cell_type": "markdown",
      "source": [
        "# Caluating Accuracy"
      ],
      "metadata": {
        "id": "L9p87nwKYllc"
      }
    },
    {
      "cell_type": "code",
      "source": [
        "print(\"Accuracy: \" + str(calculate_accuracy(Y_test, Y_pred)))"
      ],
      "metadata": {
        "colab": {
          "base_uri": "https://localhost:8080/"
        },
        "id": "se85kcUTYuKf",
        "outputId": "efddcd8f-5648-44f6-963b-acbaa1730971"
      },
      "execution_count": null,
      "outputs": [
        {
          "output_type": "stream",
          "name": "stdout",
          "text": [
            "Accuracy: 0.9385964912280702\n"
          ]
        }
      ]
    },
    {
      "cell_type": "markdown",
      "source": [
        "#Caluating Confusion Matrix"
      ],
      "metadata": {
        "id": "L4QMT0-AY1MA"
      }
    },
    {
      "cell_type": "code",
      "source": [
        "print(\"Confusion Matrix: \\n\" + str(calculate_confusion_matrix(Y_test, Y_pred)))"
      ],
      "metadata": {
        "colab": {
          "base_uri": "https://localhost:8080/"
        },
        "id": "jbXvA4XAYk-I",
        "outputId": "f3efd0de-bf1d-4f67-f69a-1ffe5594c1e1"
      },
      "execution_count": null,
      "outputs": [
        {
          "output_type": "stream",
          "name": "stdout",
          "text": [
            "Confusion Matrix: \n",
            "[[38  2]\n",
            " [ 5 69]]\n"
          ]
        }
      ]
    },
    {
      "cell_type": "markdown",
      "source": [
        "# Calculating Precision"
      ],
      "metadata": {
        "id": "aZlRij2EZEYk"
      }
    },
    {
      "cell_type": "code",
      "source": [
        "print(\"Precision: \" + str(calculate_precision(Y_test, Y_pred)))"
      ],
      "metadata": {
        "colab": {
          "base_uri": "https://localhost:8080/"
        },
        "id": "mnfpEBgDZIw_",
        "outputId": "32abf266-66ac-4507-ec2e-6e061027516f"
      },
      "execution_count": null,
      "outputs": [
        {
          "output_type": "stream",
          "name": "stdout",
          "text": [
            "Precision: 0.971830985915493\n"
          ]
        }
      ]
    },
    {
      "cell_type": "markdown",
      "source": [
        "# Calculating Recall"
      ],
      "metadata": {
        "id": "RfS0FrkSZOXt"
      }
    },
    {
      "cell_type": "code",
      "source": [
        "print(\"Recall: \" + str(calculate_recall(Y_test, Y_pred)))"
      ],
      "metadata": {
        "colab": {
          "base_uri": "https://localhost:8080/"
        },
        "id": "OFU3OxaPZSXA",
        "outputId": "24390943-1485-4e0b-ea69-d093de7a6b17"
      },
      "execution_count": null,
      "outputs": [
        {
          "output_type": "stream",
          "name": "stdout",
          "text": [
            "Recall: 0.9324324324324325\n"
          ]
        }
      ]
    },
    {
      "cell_type": "markdown",
      "source": [
        "# Calculating F1 Score"
      ],
      "metadata": {
        "id": "V-LtJjCLZaV8"
      }
    },
    {
      "cell_type": "code",
      "source": [
        "print(\"F1 Score: \" + str(calculate_f1_score(Y_test, Y_pred)))"
      ],
      "metadata": {
        "colab": {
          "base_uri": "https://localhost:8080/"
        },
        "id": "FCHCua6eZgBs",
        "outputId": "32cecfa6-e6a5-4b1d-edec-ee056c503b75"
      },
      "execution_count": null,
      "outputs": [
        {
          "output_type": "stream",
          "name": "stdout",
          "text": [
            "F1 Score: 0.9517241379310345\n"
          ]
        }
      ]
    },
    {
      "cell_type": "markdown",
      "source": [
        "# Calculating ROC"
      ],
      "metadata": {
        "id": "Aqm_B6cxZkpl"
      }
    },
    {
      "cell_type": "code",
      "source": [
        "fpr, tpr, th = calculate_roc_curve(Y_test, Y_proba)"
      ],
      "metadata": {
        "id": "34p0RXehZtAf"
      },
      "execution_count": null,
      "outputs": []
    },
    {
      "cell_type": "code",
      "source": [
        "auc_score = auc(fpr, tpr)"
      ],
      "metadata": {
        "id": "dRcB0diCynp5"
      },
      "execution_count": null,
      "outputs": []
    },
    {
      "cell_type": "code",
      "source": [
        "auc_score"
      ],
      "metadata": {
        "colab": {
          "base_uri": "https://localhost:8080/"
        },
        "id": "jql8LTIm0Xul",
        "outputId": "2d0fcbf4-5929-4bfb-8923-58cf60331ff6"
      },
      "execution_count": null,
      "outputs": [
        {
          "output_type": "execute_result",
          "data": {
            "text/plain": [
              "0.9888513513513513"
            ]
          },
          "metadata": {},
          "execution_count": 100
        }
      ]
    },
    {
      "cell_type": "markdown",
      "source": [
        "# Calculating AUC"
      ],
      "metadata": {
        "id": "Sg7LInqea1GB"
      }
    },
    {
      "cell_type": "code",
      "source": [
        "print(\"AUC: \" + str(calculate_auc(Y_test, Y_proba)))"
      ],
      "metadata": {
        "colab": {
          "base_uri": "https://localhost:8080/"
        },
        "id": "a-WWHiLfa3k7",
        "outputId": "1e8b81e8-7fb9-4824-f74c-25dd460513de"
      },
      "execution_count": null,
      "outputs": [
        {
          "output_type": "stream",
          "name": "stdout",
          "text": [
            "AUC: 0.9888513513513513\n"
          ]
        }
      ]
    },
    {
      "cell_type": "markdown",
      "source": [
        "# Plot of ROC Curve"
      ],
      "metadata": {
        "id": "o-QOAgBSbEKb"
      }
    },
    {
      "cell_type": "code",
      "source": [
        "# Plot ROC curve\n",
        "plt.plot(fpr, tpr, color='blue', label='ROC Curve (AUC = {:.2f})'.format(auc_score))\n",
        "plt.plot([0, 1], [0, 1], color='red', linestyle='--')\n",
        "plt.xlabel('False Positive Rate')\n",
        "plt.ylabel('True Positive Rate')\n",
        "plt.title('Receiver Operating Characteristic (ROC) Curve')\n",
        "plt.legend()\n",
        "plt.show()"
      ],
      "metadata": {
        "colab": {
          "base_uri": "https://localhost:8080/",
          "height": 286
        },
        "id": "dG1cb88qa_-D",
        "outputId": "216c4060-5bca-4677-b89e-78b2651fe6c9"
      },
      "execution_count": null,
      "outputs": [
        {
          "output_type": "display_data",
          "data": {
            "text/plain": [
              "<Figure size 640x480 with 1 Axes>"
            ],
            "image/png": "[encoded data removed]"
          },
          "metadata": {}
        }
      ]
    },
    {
      "cell_type": "markdown",
      "source": [
        "# Calculating Log Loss"
      ],
      "metadata": {
        "id": "yH2JKyo8cjuA"
      }
    },
    {
      "cell_type": "code",
      "source": [
        "print(\"Log Loss: \" + str(calculate_log_loss(Y_test, Y_pred)))"
      ],
      "metadata": {
        "colab": {
          "base_uri": "https://localhost:8080/"
        },
        "id": "gOaS9OzdcpF-",
        "outputId": "a6bc0cca-09b0-4940-aee9-91bfc7119d8c"
      },
      "execution_count": null,
      "outputs": [
        {
          "output_type": "stream",
          "name": "stdout",
          "text": [
            "Log Loss: 2.1208160873617126\n"
          ]
        }
      ]
    },
    {
      "cell_type": "markdown",
      "source": [
        "# Verifing the implemented Accuracy, Confusion Matrix, Precision, Recall, F1 Score, AUC and Log Loss using Scikit Learn Library"
      ],
      "metadata": {
        "id": "uEyWJpF5cyAS"
      }
    },
    {
      "cell_type": "code",
      "source": [
        "print(\"Accuracy: \" + str(accuracy_score(Y_test, Y_pred)))\n",
        "print(\"Confusion Matrix: \\n\" + str(confusion_matrix(Y_test, Y_pred)))\n",
        "print(\"Precision: \" + str(precision_score(Y_test, Y_pred)))\n",
        "print(\"Recall: \" + str(recall_score(Y_test, Y_pred)))\n",
        "print(\"F1 Score: \" + str(f1_score(Y_test, Y_pred)))\n",
        "print(\"AUC: \" + str(roc_auc_score(Y_test, Y_proba)))\n",
        "print(\"Log Loss: \" + str(log_loss(Y_test, Y_pred)))"
      ],
      "metadata": {
        "colab": {
          "base_uri": "https://localhost:8080/"
        },
        "id": "Bd38S02wvkEz",
        "outputId": "a9373e92-d9aa-4fd9-d37c-7d1600072056"
      },
      "execution_count": null,
      "outputs": [
        {
          "output_type": "stream",
          "name": "stdout",
          "text": [
            "Accuracy: 0.9385964912280702\n",
            "Confusion Matrix: \n",
            "[[38  2]\n",
            " [ 5 69]]\n",
            "Precision: 0.971830985915493\n",
            "Recall: 0.9324324324324325\n",
            "F1 Score: 0.9517241379310345\n",
            "AUC: 0.9842905405405405\n",
            "Log Loss: 2.2132067870510532\n"
          ]
        }
      ]
    }
  ]
}